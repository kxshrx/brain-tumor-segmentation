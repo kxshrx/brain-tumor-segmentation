{
  "nbformat": 4,
  "nbformat_minor": 0,
  "metadata": {
    "colab": {
      "provenance": [],
      "gpuType": "T4"
    },
    "kernelspec": {
      "name": "python3",
      "display_name": "Python 3"
    },
    "language_info": {
      "name": "python"
    },
    "accelerator": "GPU"
  },
  "cells": [
    {
      "cell_type": "code",
      "execution_count": 1,
      "metadata": {
        "id": "UI0I7kh5Xeps",
        "colab": {
          "base_uri": "https://localhost:8080/"
        },
        "outputId": "98245ac5-009c-48ca-8cb5-b97efd877be5"
      },
      "outputs": [
        {
          "output_type": "stream",
          "name": "stdout",
          "text": [
            "Mounted at /content/drive\n"
          ]
        }
      ],
      "source": [
        "from google.colab import drive\n",
        "drive.mount('/content/drive')\n"
      ]
    },
    {
      "cell_type": "code",
      "source": [
        "\n",
        "# Define dataset paths inside Google Drive\n",
        "train_data_dir = \"/content/drive/MyDrive/Brain_Tumor_Dataset/Training\"\n",
        "test_data_dir = \"/content/drive/MyDrive/Brain_Tumor_Dataset/Testing\"\n",
        "\n",
        "# Verify dataset exists\n",
        "assert os.path.exists(train_data_dir), \"❌ Training directory not found!\"\n",
        "assert os.path.exists(test_data_dir), \"❌ Testing directory not found!\"\n",
        "\n",
        "print(\"✅ Dataset found and ready to use!\")\n"
      ],
      "metadata": {
        "id": "ZYKcUp3cXm8m",
        "colab": {
          "base_uri": "https://localhost:8080/"
        },
        "outputId": "6ac0a4e8-d0e7-48ae-e2b0-e13a827e93e4"
      },
      "execution_count": 13,
      "outputs": [
        {
          "output_type": "stream",
          "name": "stdout",
          "text": [
            "✅ Dataset found and ready to use!\n"
          ]
        }
      ]
    },
    {
      "cell_type": "code",
      "source": [
        "# Import system libs\n",
        "import os\n",
        "import itertools\n",
        "\n",
        "# Import data handling tools\n",
        "import numpy as np\n",
        "import pandas as pd\n",
        "import seaborn as sns\n",
        "sns.set_style('darkgrid')\n",
        "import matplotlib.pyplot as plt\n",
        "from sklearn.model_selection import train_test_split\n",
        "from sklearn.metrics import confusion_matrix, classification_report\n",
        "\n",
        "# Import Deep Learning Libraries\n",
        "import tensorflow as tf\n",
        "from tensorflow import keras\n",
        "from tensorflow.keras.models import Sequential\n",
        "from tensorflow.keras.optimizers import Adamax\n",
        "from tensorflow.keras.preprocessing.image import ImageDataGenerator\n",
        "from tensorflow.keras.layers import Conv2D, MaxPooling2D, Flatten, Dense\n",
        "from tensorflow.keras.callbacks import ModelCheckpoint\n",
        "\n",
        "# Ignore warnings\n",
        "import warnings\n",
        "warnings.filterwarnings('ignore')\n",
        "\n",
        "# ✅ Check CUDA availability\n",
        "print(\"✅ TensorFlow Built with CUDA:\", tf.test.is_built_with_cuda())\n",
        "print(\"✅ GPU Available:\", tf.config.list_physical_devices('GPU'))\n",
        "\n",
        "# ✅ Force TensorFlow to use GPU\n",
        "gpus = tf.config.experimental.list_physical_devices('GPU')\n",
        "if gpus:\n",
        "    try:\n",
        "        for gpu in gpus:\n",
        "            tf.config.experimental.set_memory_growth(gpu, True)\n",
        "        print(\"✅ GPU is set for TensorFlow! 🚀\")\n",
        "    except RuntimeError as e:\n",
        "        print(e)\n"
      ],
      "metadata": {
        "colab": {
          "base_uri": "https://localhost:8080/"
        },
        "id": "8UDPxs6NYbMF",
        "outputId": "f72294c5-940f-46d3-86da-9e238d46a6d2"
      },
      "execution_count": 14,
      "outputs": [
        {
          "output_type": "stream",
          "name": "stdout",
          "text": [
            "✅ TensorFlow Built with CUDA: True\n",
            "✅ GPU Available: [PhysicalDevice(name='/physical_device:GPU:0', device_type='GPU')]\n",
            "✅ GPU is set for TensorFlow! 🚀\n"
          ]
        }
      ]
    },
    {
      "cell_type": "code",
      "source": [
        "# Load Training Data\n",
        "filepaths, labels = [], []\n",
        "folders = os.listdir(train_data_dir)\n",
        "\n",
        "for folder in folders:\n",
        "    folder_path = os.path.join(train_data_dir, folder)\n",
        "\n",
        "    # ✅ Ignore non-directory files like .DS_Store\n",
        "    if not os.path.isdir(folder_path):\n",
        "        continue\n",
        "\n",
        "    files = os.listdir(folder_path)\n",
        "    for file in files:\n",
        "        filepaths.append(os.path.join(folder_path, file))\n",
        "        labels.append(folder)\n",
        "\n",
        "# Create DataFrame\n",
        "train_df = pd.DataFrame({'filepaths': filepaths, 'labels': labels})\n",
        "print(\"✅ Training Data Loaded\")\n"
      ],
      "metadata": {
        "colab": {
          "base_uri": "https://localhost:8080/"
        },
        "id": "LTLc08BKYbgZ",
        "outputId": "4d7863ce-c059-4a73-9ab8-eb6af1a7ac32"
      },
      "execution_count": 15,
      "outputs": [
        {
          "output_type": "stream",
          "name": "stdout",
          "text": [
            "✅ Training Data Loaded\n"
          ]
        }
      ]
    },
    {
      "cell_type": "code",
      "source": [
        "# Load Testing Data\n",
        "filepaths, labels = [], []\n",
        "folders = os.listdir(test_data_dir)\n",
        "\n",
        "for folder in folders:\n",
        "    folder_path = os.path.join(test_data_dir, folder)\n",
        "\n",
        "    if not os.path.isdir(folder_path):\n",
        "        continue\n",
        "\n",
        "    files = os.listdir(folder_path)\n",
        "    for file in files:\n",
        "        filepaths.append(os.path.join(folder_path, file))\n",
        "        labels.append(folder)\n",
        "\n",
        "# Create DataFrame\n",
        "test_df = pd.DataFrame({'filepaths': filepaths, 'labels': labels})\n",
        "print(\"✅ Testing Data Loaded\")\n"
      ],
      "metadata": {
        "colab": {
          "base_uri": "https://localhost:8080/"
        },
        "id": "VgV4lUUMY0-O",
        "outputId": "d4f25930-a6ee-4b16-fe1b-5df24565208a"
      },
      "execution_count": 16,
      "outputs": [
        {
          "output_type": "stream",
          "name": "stdout",
          "text": [
            "✅ Testing Data Loaded\n"
          ]
        }
      ]
    },
    {
      "cell_type": "code",
      "source": [
        "data_balance = train_df.labels.value_counts()\n",
        "\n",
        "def custom_autopct(pct):\n",
        "    total = sum(data_balance)\n",
        "    val = int(round(pct * total / 100.0))\n",
        "    return \"{:.1f}%\\n({:d})\".format(pct, val)\n",
        "\n",
        "plt.figure(figsize=(8, 8))\n",
        "plt.pie(data_balance, labels=data_balance.index, autopct=custom_autopct, colors=[\"#2092E6\",\"#6D8CE6\",\"#20D0E6\",\"#A579EB\"])\n",
        "plt.title(\"Training Data Balance\")\n",
        "plt.axis(\"equal\")\n",
        "plt.show()\n"
      ],
      "metadata": {
        "colab": {
          "base_uri": "https://localhost:8080/",
          "height": 675
        },
        "id": "8D7ew_Z0Y3yI",
        "outputId": "6e9de798-98ef-4bd8-aff5-2f086f5fcecd"
      },
      "execution_count": 17,
      "outputs": [
        {
          "output_type": "display_data",
          "data": {
            "text/plain": [
              "<Figure size 800x800 with 1 Axes>"
            ],
            "image/png": "[encoded data removed]"
          },
          "metadata": {}
        }
      ]
    },
    {
      "cell_type": "code",
      "source": [
        "valid_df, test_df = train_test_split(test_df, train_size=0.5, shuffle=True, random_state=42)\n"
      ],
      "metadata": {
        "id": "DPK7iA1jY56i"
      },
      "execution_count": 18,
      "outputs": []
    },
    {
      "cell_type": "code",
      "source": [
        "# Reduce batch size to prevent memory crash\n",
        "batch_size = 8  # Adjusted from 16 to 8 for Colab stability\n",
        "img_size = (224, 224)\n",
        "\n",
        "tr_gen = ImageDataGenerator()\n",
        "ts_gen = ImageDataGenerator()\n",
        "\n",
        "train_gen = tr_gen.flow_from_dataframe(train_df, x_col='filepaths', y_col='labels', target_size=img_size, class_mode='categorical', batch_size=batch_size)\n",
        "valid_gen = ts_gen.flow_from_dataframe(valid_df, x_col='filepaths', y_col='labels', target_size=img_size, class_mode='categorical', batch_size=batch_size)\n",
        "test_gen = ts_gen.flow_from_dataframe(test_df, x_col='filepaths', y_col='labels', target_size=img_size, class_mode='categorical', batch_size=batch_size)\n"
      ],
      "metadata": {
        "colab": {
          "base_uri": "https://localhost:8080/"
        },
        "id": "bhab1SwnY7d1",
        "outputId": "6d81c5df-1ed3-40f2-dbac-a5f3451eabf4"
      },
      "execution_count": 19,
      "outputs": [
        {
          "output_type": "stream",
          "name": "stdout",
          "text": [
            "Found 5722 validated image filenames belonging to 4 classes.\n",
            "Found 660 validated image filenames belonging to 4 classes.\n",
            "Found 661 validated image filenames belonging to 4 classes.\n"
          ]
        }
      ]
    },
    {
      "cell_type": "code",
      "source": [
        "img_shape = (224, 224, 3)\n",
        "class_count = len(train_gen.class_indices)\n",
        "\n",
        "# Define CNN Model\n",
        "model = Sequential([\n",
        "    Conv2D(32, (3,3), padding=\"same\", activation=\"relu\", input_shape=img_shape),\n",
        "    MaxPooling2D(),\n",
        "    Conv2D(64, (3,3), padding=\"same\", activation=\"relu\"),\n",
        "    MaxPooling2D(),\n",
        "    Flatten(),\n",
        "    Dense(64, activation=\"relu\"),\n",
        "    Dense(32, activation=\"relu\"),\n",
        "    Dense(class_count, activation=\"softmax\")\n",
        "])\n",
        "\n",
        "# Compile Model\n",
        "model.compile(Adamax(learning_rate=0.001), loss='categorical_crossentropy', metrics=['accuracy'])\n",
        "\n",
        "# ✅ Train on GPU\n",
        "with tf.device('/GPU:0'):\n",
        "    history = model.fit(train_gen, epochs=10, validation_data=valid_gen)\n"
      ],
      "metadata": {
        "colab": {
          "base_uri": "https://localhost:8080/"
        },
        "id": "aNASDuUaY8dx",
        "outputId": "d3a37161-7384-4ca2-f004-195e786291ac"
      },
      "execution_count": 20,
      "outputs": [
        {
          "output_type": "stream",
          "name": "stdout",
          "text": [
            "Epoch 1/10\n",
            "\u001b[1m716/716\u001b[0m \u001b[32m━━━━━━━━━━━━━━━━━━━━\u001b[0m\u001b[37m\u001b[0m \u001b[1m1700s\u001b[0m 2s/step - accuracy: 0.7242 - loss: 17.6179 - val_accuracy: 0.8818 - val_loss: 0.3326\n",
            "Epoch 2/10\n",
            "\u001b[1m716/716\u001b[0m \u001b[32m━━━━━━━━━━━━━━━━━━━━\u001b[0m\u001b[37m\u001b[0m \u001b[1m34s\u001b[0m 47ms/step - accuracy: 0.9617 - loss: 0.1242 - val_accuracy: 0.9106 - val_loss: 0.3604\n",
            "Epoch 3/10\n",
            "\u001b[1m716/716\u001b[0m \u001b[32m━━━━━━━━━━━━━━━━━━━━\u001b[0m\u001b[37m\u001b[0m \u001b[1m31s\u001b[0m 44ms/step - accuracy: 0.9900 - loss: 0.0426 - val_accuracy: 0.9439 - val_loss: 0.2740\n",
            "Epoch 4/10\n",
            "\u001b[1m716/716\u001b[0m \u001b[32m━━━━━━━━━━━━━━━━━━━━\u001b[0m\u001b[37m\u001b[0m \u001b[1m32s\u001b[0m 44ms/step - accuracy: 0.9961 - loss: 0.0161 - val_accuracy: 0.9455 - val_loss: 0.2307\n",
            "Epoch 5/10\n",
            "\u001b[1m716/716\u001b[0m \u001b[32m━━━━━━━━━━━━━━━━━━━━\u001b[0m\u001b[37m\u001b[0m \u001b[1m42s\u001b[0m 46ms/step - accuracy: 0.9972 - loss: 0.0128 - val_accuracy: 0.9470 - val_loss: 0.3171\n",
            "Epoch 6/10\n",
            "\u001b[1m716/716\u001b[0m \u001b[32m━━━━━━━━━━━━━━━━━━━━\u001b[0m\u001b[37m\u001b[0m \u001b[1m32s\u001b[0m 44ms/step - accuracy: 0.9972 - loss: 0.0119 - val_accuracy: 0.9303 - val_loss: 0.4186\n",
            "Epoch 7/10\n",
            "\u001b[1m716/716\u001b[0m \u001b[32m━━━━━━━━━━━━━━━━━━━━\u001b[0m\u001b[37m\u001b[0m \u001b[1m33s\u001b[0m 46ms/step - accuracy: 0.9974 - loss: 0.0108 - val_accuracy: 0.9515 - val_loss: 0.2777\n",
            "Epoch 8/10\n",
            "\u001b[1m716/716\u001b[0m \u001b[32m━━━━━━━━━━━━━━━━━━━━\u001b[0m\u001b[37m\u001b[0m \u001b[1m41s\u001b[0m 46ms/step - accuracy: 1.0000 - loss: 4.2685e-04 - val_accuracy: 0.9545 - val_loss: 0.3187\n",
            "Epoch 9/10\n",
            "\u001b[1m716/716\u001b[0m \u001b[32m━━━━━━━━━━━━━━━━━━━━\u001b[0m\u001b[37m\u001b[0m \u001b[1m32s\u001b[0m 45ms/step - accuracy: 1.0000 - loss: 1.0828e-04 - val_accuracy: 0.9530 - val_loss: 0.3290\n",
            "Epoch 10/10\n",
            "\u001b[1m716/716\u001b[0m \u001b[32m━━━━━━━━━━━━━━━━━━━━\u001b[0m\u001b[37m\u001b[0m \u001b[1m33s\u001b[0m 46ms/step - accuracy: 1.0000 - loss: 3.6822e-05 - val_accuracy: 0.9606 - val_loss: 0.3385\n"
          ]
        }
      ]
    },
    {
      "cell_type": "code",
      "source": [
        "checkpoint_path = \"/content/drive/MyDrive/Brain_Tumor_Dataset/best_model.keras\"\n",
        "\n",
        "# Save best model checkpoint\n",
        "checkpoint = ModelCheckpoint(checkpoint_path, monitor='val_loss', mode='min', save_best_only=True, verbose=1)\n",
        "\n",
        "with tf.device('/GPU:0'):\n",
        "    history = model.fit(train_gen, epochs=10, validation_data=valid_gen, callbacks=[checkpoint])\n"
      ],
      "metadata": {
        "colab": {
          "base_uri": "https://localhost:8080/"
        },
        "id": "ubUKoI-0ZBhK",
        "outputId": "3443dc95-2f04-4c25-e436-df0beef4e07b"
      },
      "execution_count": 21,
      "outputs": [
        {
          "output_type": "stream",
          "name": "stdout",
          "text": [
            "Epoch 1/10\n",
            "\u001b[1m715/716\u001b[0m \u001b[32m━━━━━━━━━━━━━━━━━━━\u001b[0m\u001b[37m━\u001b[0m \u001b[1m0s\u001b[0m 40ms/step - accuracy: 1.0000 - loss: 2.0366e-05\n",
            "Epoch 1: val_loss improved from inf to 0.37387, saving model to /content/drive/MyDrive/Brain_Tumor_Dataset/best_model.keras\n",
            "\u001b[1m716/716\u001b[0m \u001b[32m━━━━━━━━━━━━━━━━━━━━\u001b[0m\u001b[37m\u001b[0m \u001b[1m33s\u001b[0m 46ms/step - accuracy: 1.0000 - loss: 2.0361e-05 - val_accuracy: 0.9530 - val_loss: 0.3739\n",
            "Epoch 2/10\n",
            "\u001b[1m716/716\u001b[0m \u001b[32m━━━━━━━━━━━━━━━━━━━━\u001b[0m\u001b[37m\u001b[0m \u001b[1m0s\u001b[0m 44ms/step - accuracy: 1.0000 - loss: 7.8413e-06\n",
            "Epoch 2: val_loss did not improve from 0.37387\n",
            "\u001b[1m716/716\u001b[0m \u001b[32m━━━━━━━━━━━━━━━━━━━━\u001b[0m\u001b[37m\u001b[0m \u001b[1m36s\u001b[0m 51ms/step - accuracy: 1.0000 - loss: 7.8403e-06 - val_accuracy: 0.9545 - val_loss: 0.3994\n",
            "Epoch 3/10\n",
            "\u001b[1m716/716\u001b[0m \u001b[32m━━━━━━━━━━━━━━━━━━━━\u001b[0m\u001b[37m\u001b[0m \u001b[1m0s\u001b[0m 42ms/step - accuracy: 1.0000 - loss: 3.6948e-06\n",
            "Epoch 3: val_loss did not improve from 0.37387\n",
            "\u001b[1m716/716\u001b[0m \u001b[32m━━━━━━━━━━━━━━━━━━━━\u001b[0m\u001b[37m\u001b[0m \u001b[1m33s\u001b[0m 46ms/step - accuracy: 1.0000 - loss: 3.6947e-06 - val_accuracy: 0.9561 - val_loss: 0.3942\n",
            "Epoch 4/10\n",
            "\u001b[1m716/716\u001b[0m \u001b[32m━━━━━━━━━━━━━━━━━━━━\u001b[0m\u001b[37m\u001b[0m \u001b[1m0s\u001b[0m 42ms/step - accuracy: 1.0000 - loss: 1.6662e-06\n",
            "Epoch 4: val_loss did not improve from 0.37387\n",
            "\u001b[1m716/716\u001b[0m \u001b[32m━━━━━━━━━━━━━━━━━━━━\u001b[0m\u001b[37m\u001b[0m \u001b[1m41s\u001b[0m 46ms/step - accuracy: 1.0000 - loss: 1.6661e-06 - val_accuracy: 0.9561 - val_loss: 0.4220\n",
            "Epoch 5/10\n",
            "\u001b[1m715/716\u001b[0m \u001b[32m━━━━━━━━━━━━━━━━━━━\u001b[0m\u001b[37m━\u001b[0m \u001b[1m0s\u001b[0m 42ms/step - accuracy: 1.0000 - loss: 7.6770e-07\n",
            "Epoch 5: val_loss did not improve from 0.37387\n",
            "\u001b[1m716/716\u001b[0m \u001b[32m━━━━━━━━━━━━━━━━━━━━\u001b[0m\u001b[37m\u001b[0m \u001b[1m33s\u001b[0m 46ms/step - accuracy: 1.0000 - loss: 7.6748e-07 - val_accuracy: 0.9576 - val_loss: 0.4338\n",
            "Epoch 6/10\n",
            "\u001b[1m715/716\u001b[0m \u001b[32m━━━━━━━━━━━━━━━━━━━\u001b[0m\u001b[37m━\u001b[0m \u001b[1m0s\u001b[0m 42ms/step - accuracy: 1.0000 - loss: 3.5892e-07\n",
            "Epoch 6: val_loss did not improve from 0.37387\n",
            "\u001b[1m716/716\u001b[0m \u001b[32m━━━━━━━━━━━━━━━━━━━━\u001b[0m\u001b[37m\u001b[0m \u001b[1m33s\u001b[0m 47ms/step - accuracy: 1.0000 - loss: 3.5884e-07 - val_accuracy: 0.9561 - val_loss: 0.4388\n",
            "Epoch 7/10\n",
            "\u001b[1m715/716\u001b[0m \u001b[32m━━━━━━━━━━━━━━━━━━━\u001b[0m\u001b[37m━\u001b[0m \u001b[1m0s\u001b[0m 41ms/step - accuracy: 1.0000 - loss: 1.5858e-07\n",
            "Epoch 7: val_loss did not improve from 0.37387\n",
            "\u001b[1m716/716\u001b[0m \u001b[32m━━━━━━━━━━━━━━━━━━━━\u001b[0m\u001b[37m\u001b[0m \u001b[1m32s\u001b[0m 44ms/step - accuracy: 1.0000 - loss: 1.5854e-07 - val_accuracy: 0.9576 - val_loss: 0.4460\n",
            "Epoch 8/10\n",
            "\u001b[1m715/716\u001b[0m \u001b[32m━━━━━━━━━━━━━━━━━━━\u001b[0m\u001b[37m━\u001b[0m \u001b[1m0s\u001b[0m 41ms/step - accuracy: 1.0000 - loss: 7.0030e-08\n",
            "Epoch 8: val_loss did not improve from 0.37387\n",
            "\u001b[1m716/716\u001b[0m \u001b[32m━━━━━━━━━━━━━━━━━━━━\u001b[0m\u001b[37m\u001b[0m \u001b[1m34s\u001b[0m 48ms/step - accuracy: 1.0000 - loss: 7.0017e-08 - val_accuracy: 0.9561 - val_loss: 0.4625\n",
            "Epoch 9/10\n",
            "\u001b[1m716/716\u001b[0m \u001b[32m━━━━━━━━━━━━━━━━━━━━\u001b[0m\u001b[37m\u001b[0m \u001b[1m0s\u001b[0m 42ms/step - accuracy: 1.0000 - loss: 2.9909e-08\n",
            "Epoch 9: val_loss did not improve from 0.37387\n",
            "\u001b[1m716/716\u001b[0m \u001b[32m━━━━━━━━━━━━━━━━━━━━\u001b[0m\u001b[37m\u001b[0m \u001b[1m33s\u001b[0m 46ms/step - accuracy: 1.0000 - loss: 2.9905e-08 - val_accuracy: 0.9576 - val_loss: 0.4742\n",
            "Epoch 10/10\n",
            "\u001b[1m715/716\u001b[0m \u001b[32m━━━━━━━━━━━━━━━━━━━\u001b[0m\u001b[37m━\u001b[0m \u001b[1m0s\u001b[0m 40ms/step - accuracy: 1.0000 - loss: 1.4240e-08\n",
            "Epoch 10: val_loss did not improve from 0.37387\n",
            "\u001b[1m716/716\u001b[0m \u001b[32m━━━━━━━━━━━━━━━━━━━━\u001b[0m\u001b[37m\u001b[0m \u001b[1m32s\u001b[0m 45ms/step - accuracy: 1.0000 - loss: 1.4242e-08 - val_accuracy: 0.9561 - val_loss: 0.4830\n"
          ]
        }
      ]
    },
    {
      "cell_type": "code",
      "source": [
        "# Load best model\n",
        "best_model = keras.models.load_model(checkpoint_path)\n",
        "\n",
        "with tf.device('/GPU:0'):\n",
        "    test_score = best_model.evaluate(test_gen, verbose=1)\n",
        "\n",
        "print(\"Best Model Test Loss: \", test_score[0])\n",
        "print(\"Best Model Test Accuracy: \", test_score[1])\n"
      ],
      "metadata": {
        "colab": {
          "base_uri": "https://localhost:8080/"
        },
        "id": "jOj6RvsjYgTz",
        "outputId": "44ecb30a-fe74-4aa9-a0d0-e68e7fe960b8"
      },
      "execution_count": 22,
      "outputs": [
        {
          "output_type": "stream",
          "name": "stdout",
          "text": [
            "\u001b[1m83/83\u001b[0m \u001b[32m━━━━━━━━━━━━━━━━━━━━\u001b[0m\u001b[37m\u001b[0m \u001b[1m205s\u001b[0m 2s/step - accuracy: 0.9588 - loss: 0.2777\n",
            "Best Model Test Loss:  0.3553580641746521\n",
            "Best Model Test Accuracy:  0.9576399326324463\n"
          ]
        }
      ]
    }
  ]
}